{
 "cells": [
  {
   "cell_type": "code",
   "execution_count": 1,
   "id": "0985dbf8-2350-4043-a91b-88e94b821ae6",
   "metadata": {},
   "outputs": [],
   "source": [
    "import pandas as pd\n",
    "import numpy as np\n",
    "import pathlib\n",
    "import os\n",
    "import cv2\n",
    "import seaborn as sns\n",
    "\n",
    "import re\n",
    "from collections import Counter"
   ]
  },
  {
   "cell_type": "code",
   "execution_count": 2,
   "id": "db21b1db-9df5-473e-a567-cea6cfbad57f",
   "metadata": {},
   "outputs": [],
   "source": [
    "\n",
    "def get_image_paths(path_dir):\n",
    "    tails = []\n",
    "    image_tails = [\"jpeg\", \"jpg\", \"JPG\", \"png\"]\n",
    "    image_paths = []\n",
    "    for (dirpath, dirnames, filenames) in os.walk(path_dir):\n",
    " \n",
    "        for filename in filenames:\n",
    "            file_path = os.path.join(dirpath, filename)\n",
    "            match = re.match(\".*\\.(.*)$\", filename)\n",
    "            if match != None:\n",
    "                tail = match.group(1)\n",
    "                if tail not in image_tails:\n",
    "                    continue\n",
    "                image_paths.append(file_path)\n",
    "    return image_paths"
   ]
  },
  {
   "cell_type": "code",
   "execution_count": 3,
   "id": "64260148-3fb5-481c-86a6-1238cc35cd66",
   "metadata": {},
   "outputs": [
    {
     "name": "stderr",
     "output_type": "stream",
     "text": [
      "2022-02-16 13:09:21.951629: W tensorflow/stream_executor/platform/default/dso_loader.cc:64] Could not load dynamic library 'libcudart.so.11.0'; dlerror: libcudart.so.11.0: cannot open shared object file: No such file or directory; LD_LIBRARY_PATH: /home/hondv/projects/CDD/hondv-otsv/venv/lib/python3.8/site-packages/cv2/../../lib64:\n",
      "2022-02-16 13:09:21.951667: I tensorflow/stream_executor/cuda/cudart_stub.cc:29] Ignore above cudart dlerror if you do not have a GPU set up on your machine.\n",
      "2022-02-16 13:09:24.210125: W tensorflow/stream_executor/platform/default/dso_loader.cc:64] Could not load dynamic library 'libcuda.so.1'; dlerror: libcuda.so.1: cannot open shared object file: No such file or directory; LD_LIBRARY_PATH: /home/hondv/projects/CDD/hondv-otsv/venv/lib/python3.8/site-packages/cv2/../../lib64:\n",
      "2022-02-16 13:09:24.210175: W tensorflow/stream_executor/cuda/cuda_driver.cc:269] failed call to cuInit: UNKNOWN ERROR (303)\n",
      "2022-02-16 13:09:24.210196: I tensorflow/stream_executor/cuda/cuda_diagnostics.cc:156] kernel driver does not appear to be running on this host (VN-OTS-05303SR): /proc/driver/nvidia/version does not exist\n",
      "2022-02-16 13:09:24.210939: I tensorflow/core/platform/cpu_feature_guard.cc:151] This TensorFlow binary is optimized with oneAPI Deep Neural Network Library (oneDNN) to use the following CPU instructions in performance-critical operations:  AVX2 FMA\n",
      "To enable them in other operations, rebuild TensorFlow with the appropriate compiler flags.\n"
     ]
    }
   ],
   "source": [
    "import tensorflow as tf\n",
    "from tensorflow.keras.preprocessing import image\n",
    "import numpy as np\n",
    "\n",
    "model = tf.keras.applications.vgg16.VGG16(weights='imagenet')\n",
    "\n",
    "def extract_image_features(image_path):\n",
    "\n",
    "    img = image.load_img(image_path, target_size=(224,224))\n",
    "    x = image.img_to_array(img)\n",
    "    x = np.expand_dims(x, axis=0)\n",
    "    tf.keras.applications.vgg16.preprocess_input(x)\n",
    "\n",
    "    features = model.predict(x)\n",
    "    return features\n",
    "\n",
    "def extract_image_features(image_paths):\n",
    "    data = []\n",
    "    for image_path in image_paths:\n",
    "        img = image.load_img(image_path, target_size=(224,224))\n",
    "        row = image.img_to_array(img)\n",
    "        row = np.expand_dims(row, axis=0)\n",
    "        data.append(row)\n",
    "    all_data = np.concatenate(data, 0)\n",
    "    x = tf.keras.applications.vgg16.preprocess_input(all_data)\n",
    "\n",
    "    features = model.predict(x)\n",
    "    return features\n",
    "\n",
    "def get_image_color_features(image_paths, color_mode=\"grayscale\"):\n",
    "    data = []\n",
    "    for image_path in image_paths:\n",
    "        img = image.load_img(image_path, color_mode=color_mode ,target_size=(224,224))\n",
    "        row = image.img_to_array(img)\n",
    "        row = row.flatten()\n",
    "        row = np.expand_dims(row, axis=0)\n",
    "        data.append(row)\n",
    "    all_data = np.concatenate(data, 0)\n",
    "\n",
    "    return all_data\n",
    "\n",
    "def compute_HOG_images(image_paths):\n",
    "    data = []\n",
    "    hog = cv2.HOGDescriptor()\n",
    "    for image_path in image_paths:\n",
    "        im = cv2.imread(image_path)\n",
    "        im = cv2.resize(im,(224,224), interpolation = cv2.INTER_AREA)\n",
    "        h = hog.compute(im)\n",
    "        row = np.expand_dims(h, axis=0)\n",
    "        data.append(row)\n",
    "    all_data = np.concatenate(data, 0)\n",
    "\n",
    "    return all_data"
   ]
  },
  {
   "cell_type": "code",
   "execution_count": 4,
   "id": "50355bd5-49c3-4152-bf4a-e40fcc49638d",
   "metadata": {},
   "outputs": [],
   "source": [
    "from sklearn.decomposition import PCA\n",
    "import matplotlib.pyplot as plt\n",
    "from tqdm import tqdm\n",
    "\n",
    "markers = {    \"AV\": \"s\", \"Damage\":\"X\"}\n",
    "markers = [\"s\", \"X\"]\n",
    "def analize_image_data(image_paths, output_path):\n",
    "    rows = []\n",
    "    for image_path in image_paths:\n",
    "        img = cv2.imread(image_path)\n",
    "        h,w, _ = img.shape\n",
    "        image_type = None\n",
    "        if \"/AV/\" in image_path:\n",
    "            image_type = \"AV\"\n",
    "        elif \"/Damage/\" in image_path:\n",
    "            image_type = \"Damage\"\n",
    "        else:\n",
    "            image_type = \"Damage\"\n",
    "        image_info = {\"path\": image_path, \"height\": h, \"weight\": w, \"image_type\":image_type}\n",
    "        rows.append(image_info)\n",
    "    df = pd.DataFrame(rows)\n",
    "    \n",
    "\n",
    "    print(\"-----Size of all images-----\")\n",
    "    print(df[[\"height\", \"weight\"]].describe())\n",
    "    for image_type in [\"AV\", \"Damage\"]:\n",
    "        sub_df = df[df[\"image_type\"] == image_type]\n",
    "        print(\"-----Size of {} images-----\".format(image_type))\n",
    "        print(sub_df[[\"height\", \"weight\"]].describe())\n",
    "        \n",
    "        \n",
    "    sns.set_theme(style=\"ticks\")\n",
    "    df.to_csv(output_path, index=False)\n",
    "    \n",
    "    \n",
    "    sns.pairplot(df, hue=\"image_type\", markers=markers)\n",
    "    \n",
    "    \n",
    "def get_image_feature(image_path: str):\n",
    "    features = extract_image_features(image_path)\n",
    "    return features[0]\n",
    "def pca_analysis(data_path):\n",
    "    df = pd.read_csv(data_path)\n",
    "    image_types = df[\"image_type\"].to_list()\n",
    "    image_paths = df[\"path\"].to_list()\n",
    "    # features_data = [get_image_feature(image_path) for image/_path in tqdm(image_paths)]\n",
    "    features_data = extract_image_features(image_paths)\n",
    "    features_data = np.array(features_data)\n",
    "    \n",
    "    pca_data = PCA(n_components=2)\n",
    "    principalComponents_data =  pca_data.fit_transform(features_data)\n",
    "    pca_df = pd.DataFrame(data=principalComponents_data, columns = [\"pca_1\", \"pca_2\"])\n",
    "    pca_df[\"y\"] = image_types\n",
    "    plt.figure(figsize=(16,10))\n",
    "    sns.scatterplot(\n",
    "        x=\"pca_1\", y=\"pca_2\",\n",
    "        hue=\"y\",\n",
    "        data=pca_df,\n",
    "        legend=\"full\",\n",
    "        style=\"y\"\n",
    "    ).set_title('Analyze PCA by features extraction of dataset')\n",
    "    \n",
    "def pca_color(data_path, color_mode=None):\n",
    "    df = pd.read_csv(data_path)\n",
    "    image_types = df[\"image_type\"].to_list()\n",
    "    image_paths = df[\"path\"].to_list()\n",
    "    # features_data = [get_image_feature(image_path) for image/_path in tqdm(image_paths)]\n",
    "    features_data = get_image_color_features(image_paths,color_mode)\n",
    "    features_data = np.array(features_data)\n",
    "    \n",
    "    pca_data = PCA(n_components=2)\n",
    "    principalComponents_data =  pca_data.fit_transform(features_data)\n",
    "    pca_df = pd.DataFrame(data=principalComponents_data, columns = [\"pca_1\", \"pca_2\"])\n",
    "    pca_df[\"y\"] = image_types\n",
    "    plt.figure(figsize=(16,10))\n",
    "    if color_mode == \"grayscale\":\n",
    "        title = 'Analyze PCA by gray color images of dataset'\n",
    "    else:\n",
    "        title = 'Analyze PCA by BGR color images of dataset'\n",
    "    sns.scatterplot(\n",
    "        x=\"pca_1\", y=\"pca_2\",\n",
    "        hue=\"y\",\n",
    "        data=pca_df,\n",
    "        legend=\"full\",\n",
    "        style=\"y\"\n",
    "    ).set_title(title)\n",
    "    \n",
    "def pca_HOG_images(data_path):\n",
    "    df = pd.read_csv(data_path)\n",
    "    image_types = df[\"image_type\"].to_list()\n",
    "    image_paths = df[\"path\"].to_list()\n",
    "    # features_data = [get_image_feature(image_path) for image/_path in tqdm(image_paths)]\n",
    "    features_data = compute_HOG_images(image_paths)\n",
    "    features_data = np.array(features_data)\n",
    "    \n",
    "    pca_data = PCA(n_components=2)\n",
    "    principalComponents_data =  pca_data.fit_transform(features_data)\n",
    "    pca_df = pd.DataFrame(data=principalComponents_data, columns = [\"pca_1\", \"pca_2\"])\n",
    "    pca_df[\"y\"] = image_types\n",
    "    plt.figure(figsize=(16,10))\n",
    "    sns.scatterplot(\n",
    "        x=\"pca_1\", y=\"pca_2\",\n",
    "        hue=\"y\",\n",
    "        data=pca_df,\n",
    "        legend=\"full\",\n",
    "        style=\"y\"\n",
    "    ).set_title('Analyze PCA by HOG computation of dataset')\n",
    "    "
   ]
  },
  {
   "cell_type": "code",
   "execution_count": 5,
   "id": "3bc0f899-fcfd-4083-8892-8a9c8603545d",
   "metadata": {},
   "outputs": [
    {
     "name": "stdout",
     "output_type": "stream",
     "text": [
      "\n"
     ]
    }
   ],
   "source": [
    "from random import randrange\n",
    "print()\n",
    "def show_image(data_path, image_type):\n",
    "    df = pd.read_csv(data_path)\n",
    "    df = df[df[\"image_type\"]==image_type]\n",
    "    image_paths = df[\"path\"].to_list()\n",
    "    # create figure\n",
    "    fig = plt.figure(figsize=(10, 7))\n",
    "    len_segment = int(len(image_paths) / 9)\n",
    "    # setting values to rows and column variables\n",
    "    rows = 3\n",
    "    columns = 3\n",
    "    rand_values = randrange(len_segment)\n",
    "    print(\"random values:\", rand_values)\n",
    "    # reading images\n",
    "    print(\"len_segment:\", len_segment)\n",
    "    Images = [cv2.imread(image_paths[i*len_segment + rand_values]) for i in range(9)]\n",
    "    Images = [cv2.cvtColor(img, cv2.COLOR_BGR2RGB) for img in Images]\n",
    "    for i in range(9):\n",
    "        \n",
    "        # Adds a subplot at the 1st position\n",
    "        fig.add_subplot(rows, columns, i + 1)\n",
    "\n",
    "        # showing image\n",
    "        plt.imshow(Images[i])\n",
    "        plt.axis('off')\n",
    "        # plt.title(\"First\")\n"
   ]
  },
  {
   "cell_type": "code",
   "execution_count": 6,
   "id": "8b55c83d-a22c-4058-b3ac-eb8ca2f953db",
   "metadata": {},
   "outputs": [
    {
     "name": "stdout",
     "output_type": "stream",
     "text": [
      "-----Size of all images-----\n",
      "            height       weight\n",
      "count  2012.000000  2012.000000\n",
      "mean    968.683897   733.455268\n",
      "std     519.838561   310.867802\n",
      "min     150.000000   187.000000\n",
      "25%     600.000000   640.000000\n",
      "50%    1040.000000   720.000000\n",
      "75%    1280.000000   800.000000\n",
      "max    4032.000000  4864.000000\n",
      "-----Size of AV images-----\n",
      "            height       weight\n",
      "count   313.000000   313.000000\n",
      "mean   1232.396166   805.166134\n",
      "std     461.601806   241.757211\n",
      "min     683.000000   585.000000\n",
      "25%    1040.000000   720.000000\n",
      "50%    1280.000000   720.000000\n",
      "75%    1280.000000   780.000000\n",
      "max    4032.000000  1816.000000\n",
      "-----Size of Damage images-----\n",
      "            height       weight\n",
      "count  1699.000000  1699.000000\n",
      "mean    920.101236   720.244261\n",
      "std     515.472955   320.297978\n",
      "min     150.000000   187.000000\n",
      "25%     600.000000   640.000000\n",
      "50%    1040.000000   720.000000\n",
      "75%    1280.000000   800.000000\n",
      "max    4032.000000  4864.000000\n"
     ]
    },
    {
     "data": {
      "image/png": "[encoded data removed]",
      "text/plain": [
       "<Figure size 446.225x360 with 6 Axes>"
      ]
     },
     "metadata": {},
     "output_type": "display_data"
    }
   ],
   "source": [
    "path = \"/mnt/c/Users/hon.dangv/Desktop/data/CDD/depots/MNR container picture DB/Container Damage Detection Study-20220208T101749Z-001/Container Damage Detection Study\"\n",
    "image_paths = get_image_paths(path)\n",
    "output_path = \"/mnt/c/Users/hon.dangv/Desktop/data/CDD/depots/MNR container picture DB/Container Damage Detection Study-20220208T101749Z-001/Container Damage Detection Study/analisis_result_2-11-2022.csv\"\n",
    "\n",
    "analize_image_data(image_paths,output_path)"
   ]
  },
  {
   "cell_type": "markdown",
   "id": "3a365e24-3c5b-4e98-a20c-ec03f16dcef8",
   "metadata": {},
   "source": [
    "dataset has medium image size is (1040, 720).\n",
    "amount images with type \"Damage\" are 3 times than \"AV\" images.\n"
   ]
  },
  {
   "cell_type": "code",
   "execution_count": null,
   "id": "f05e5bb9-4414-473f-a7ba-cc017ace79f5",
   "metadata": {},
   "outputs": [],
   "source": []
  },
  {
   "cell_type": "code",
   "execution_count": null,
   "id": "3aa5d171-f83e-429f-a455-785c193a3092",
   "metadata": {},
   "outputs": [],
   "source": []
  },
  {
   "cell_type": "markdown",
   "id": "9c7344e4-39b3-49ef-826a-a83c26f54a55",
   "metadata": {
    "tags": []
   },
   "source": [
    "### Set input_path is the folder of dataset about Container Damage Detection"
   ]
  },
  {
   "cell_type": "code",
   "execution_count": null,
   "id": "0d9926e0-4c42-449a-b152-624e53e87080",
   "metadata": {},
   "outputs": [],
   "source": [
    "# Set input_path is the folder of dataset which contains 2 sub-folders: \"AV\" and \"Damage \n",
    "input_path = \"/mnt/c/Users/hon.dangv/Desktop/data/CDD/depots/MNR container picture DB/Container Damage Detection Study-20220208T101749Z-001/Container Damage Detection Study/analisis_result_2-11-2022.csv\"\n",
    "pca_analysis(input_path)"
   ]
  },
  {
   "cell_type": "markdown",
   "id": "4f6bc0fd-4e37-48f6-a724-cfd446210b27",
   "metadata": {},
   "source": [
    "\"Damage\" images are variable than \"AV\" images"
   ]
  },
  {
   "cell_type": "code",
   "execution_count": null,
   "id": "bef3b09a-4df0-4658-830c-61265193432c",
   "metadata": {},
   "outputs": [],
   "source": [
    "input_path = \"/mnt/c/Users/hon.dangv/Desktop/data/CDD/depots/MNR container picture DB/Container Damage Detection Study-20220208T101749Z-001/Container Damage Detection Study/analisis_result_2-11-2022.csv\"\n",
    "pca_color(input_path,color_mode=\"grayscale\")"
   ]
  },
  {
   "cell_type": "markdown",
   "id": "d9839e8f-d61b-469f-8d1c-81cfe3a501e2",
   "metadata": {},
   "source": [
    "The brightness of the two data types is similar"
   ]
  },
  {
   "cell_type": "code",
   "execution_count": null,
   "id": "4f7ec493-d6b1-4a00-865c-71b12fd460df",
   "metadata": {},
   "outputs": [],
   "source": [
    "input_path = \"/mnt/c/Users/hon.dangv/Desktop/data/CDD/depots/MNR container picture DB/Container Damage Detection Study-20220208T101749Z-001/Container Damage Detection Study/analisis_result_2-11-2022.csv\"\n",
    "pca_color(input_path,color_mode=\"rgb\")"
   ]
  },
  {
   "cell_type": "markdown",
   "id": "c7d78a33-e9b0-4869-a818-95837680be7e",
   "metadata": {},
   "source": [
    "The color diversity of the two data types is similar"
   ]
  },
  {
   "cell_type": "code",
   "execution_count": null,
   "id": "b9de3c6a-f2a4-44f2-9181-50b90222e330",
   "metadata": {},
   "outputs": [],
   "source": [
    "input_path = \"/mnt/c/Users/hon.dangv/Desktop/data/CDD/depots/MNR container picture DB/Container Damage Detection Study-20220208T101749Z-001/Container Damage Detection Study/analisis_result_2-11-2022.csv\"\n",
    "pca_HOG_images(input_path)\n"
   ]
  },
  {
   "cell_type": "markdown",
   "id": "2d676f69-0097-4ab6-853c-3f660ba4ae62",
   "metadata": {},
   "source": [
    "using HOG calculation makes the 2 types of images more distinct\n"
   ]
  },
  {
   "cell_type": "code",
   "execution_count": null,
   "id": "f8ee5cce-48fc-49ae-bd7a-0d7941c08155",
   "metadata": {},
   "outputs": [],
   "source": [
    "show_image(input_path, image_type=\"AV\")"
   ]
  },
  {
   "cell_type": "code",
   "execution_count": null,
   "id": "00afc309-5e44-41f0-bf93-748a0923a7da",
   "metadata": {},
   "outputs": [],
   "source": [
    "show_image(input_path, image_type=\"Damage\")"
   ]
  },
  {
   "cell_type": "code",
   "execution_count": null,
   "id": "8c229291-cf19-4f1f-9525-1d40688971e5",
   "metadata": {},
   "outputs": [],
   "source": []
  },
  {
   "cell_type": "code",
   "execution_count": null,
   "id": "90f39d8b-553f-4dee-b30a-66b267601c18",
   "metadata": {},
   "outputs": [],
   "source": []
  },
  {
   "cell_type": "code",
   "execution_count": null,
   "id": "cdb03a72-fc86-446a-8f7c-12e574ee073e",
   "metadata": {},
   "outputs": [],
   "source": []
  }
 ],
 "metadata": {
  "kernelspec": {
   "display_name": "Python 3 (ipykernel)",
   "language": "python",
   "name": "python3"
  },
  "language_info": {
   "codemirror_mode": {
    "name": "ipython",
    "version": 3
   },
   "file_extension": ".py",
   "mimetype": "text/x-python",
   "name": "python",
   "nbconvert_exporter": "python",
   "pygments_lexer": "ipython3",
   "version": "3.8.10"
  }
 },
 "nbformat": 4,
 "nbformat_minor": 5
}
